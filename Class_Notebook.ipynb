{
 "cells": [
  {
   "cell_type": "markdown",
   "id": "4ef4485e",
   "metadata": {},
   "source": [
    "# Ch9 Classes"
   ]
  },
  {
   "cell_type": "markdown",
   "id": "7b465366",
   "metadata": {},
   "source": [
    "### Python is an object oriented programming language.\n",
    "- Almost everything in Python is an object, with its properties and methods (Functions).\n",
    "- A Class is like an object constructor, or a \"blueprint\" for creating objects."
   ]
  },
  {
   "cell_type": "code",
   "execution_count": 8,
   "id": "741b88de",
   "metadata": {},
   "outputs": [
    {
     "name": "stdout",
     "output_type": "stream",
     "text": [
      "the email of the first employee: angy.hillcompany.com\n",
      "first name of employee1 Angy\n",
      "last name of employee1 Hill\n",
      "age of employee1 25\n",
      "email of employee1 angy.hillcompany.com\n",
      "the full name : Angy Hill\n",
      "the full name : Peter White\n"
     ]
    }
   ],
   "source": [
    "class Employee(): #name of the class\n",
    "    \n",
    "#init is the constructor of the class. it is mandatory for a class construction\n",
    "#self is used to represent the instance of the class    \n",
    "    def __init__(self,first,last,age,dept): #method/function\n",
    "        #method/function\n",
    "        self.first=first.title()\n",
    "        self.last=last.title()\n",
    "        self.age=age\n",
    "        self.dept=dept.title()\n",
    "        self.email=first.lower()+'.'+last.lower()+'company.com'\n",
    "#creating a method called fullname. it needs only the instance    \n",
    "    \n",
    "# why does this not work\n",
    "\n",
    "    def fullname(self):\n",
    "        print(f'the full name : {self.first} {self.last}')\n",
    "        \n",
    "#init will run automatically when you call the class\n",
    "emp_1=Employee('angy','hill',25,'accounting')\n",
    "emp_2=Employee('PETER','WHITE',35,'finance')\n",
    "\n",
    "print(f'the email of the first employee: {emp_1.email}')\n",
    "print(f'first name of employee1 {emp_1.first}')\n",
    "print(f'last name of employee1 {emp_1.last}')\n",
    "print(f'age of employee1 {emp_1.age}')\n",
    "print(f'email of employee1 {emp_1.email}')\n",
    "#print(f'full name of employee1 {emp_1.first} {emp_1.last}')\n",
    "#print(f'full name of employee2 {emp_2.first} {emp_2.last}')\n",
    "emp_1.fullname()\n",
    "emp_2.fullname()"
   ]
  },
  {
   "cell_type": "code",
   "execution_count": null,
   "id": "a9136cf8",
   "metadata": {},
   "outputs": [],
   "source": []
  },
  {
   "cell_type": "markdown",
   "id": "5d60f7c0",
   "metadata": {},
   "source": [
    "### Creating the Dog Class\n",
    "Each instance created from the Dog class will store a name and an age, and we’ll give each dog the ability to sit() and roll_over():"
   ]
  },
  {
   "cell_type": "code",
   "execution_count": 19,
   "id": "6e84155c",
   "metadata": {},
   "outputs": [
    {
     "name": "stdout",
     "output_type": "stream",
     "text": [
      "Shelly\n",
      "4\n",
      "Shelly is now sitting\n",
      "Shelly is rolled ofver\n",
      "Tom\n",
      "1\n",
      "Tom is now sitting\n",
      "Tom is rolled ofver\n",
      "Tom shaked a random person\n",
      "Tom is now down\n",
      "Tom is now sitting\n"
     ]
    }
   ],
   "source": [
    "class dog():\n",
    "    def __init__(self,name,age):\n",
    "        self.name=name.title()\n",
    "        self.age=age\n",
    "    def sit(self):\n",
    "        print(f'{self.name} is now sitting')\n",
    "        \n",
    "    def roll_over(self):\n",
    "        print(f'{self.name} is rolled ofver')\n",
    "    \n",
    "    def shake(self):\n",
    "        print(f'{self.name} shaked a random person')\n",
    "    \n",
    "    def bark(self):\n",
    "        print(f'{self.name} is barking to a stranger')\n",
    "    \n",
    "    def down(self):\n",
    "        print(f'{self.name} is now down')\n",
    "        \n",
    "dog1=dog('shelly',4)\n",
    "print(dog1.name)\n",
    "print(dog1.age)\n",
    "dog1.sit()\n",
    "dog1.roll_over()\n",
    "\n",
    "dog2=dog('tom',1)\n",
    "print(dog2.name)\n",
    "print(dog2.age)\n",
    "dog2.sit()\n",
    "dog2.roll_over()\n",
    "dog2.shake()\n",
    "dog2.down()\n",
    "dog2.sit()"
   ]
  },
  {
   "cell_type": "code",
   "execution_count": null,
   "id": "3c70e9c0",
   "metadata": {},
   "outputs": [],
   "source": []
  },
  {
   "cell_type": "markdown",
   "id": "8bbcc5c0",
   "metadata": {},
   "source": [
    "#### Note:\n",
    "- By convention, capitalized names refer to classes in Python. \n",
    "- The parentheses in the class definition are empty because we’re creating this class from scratch.\n",
    "- All classes have a function called __init__(), which is always executed when the class is being initiated.\n",
    "- Use the __init__() function to assign values to object properties, or other operations that are necessary to do when the object is being created\n",
    "- Any variable prefixed with `self` is available to every method in the class, and we’ll also be able to access these variables through any instance created from the class.\n",
    "- The Dog class has two other methods defined: sit() and roll_over().Because these methods don’t need additional information like a name or age, we just define them to have one parameter, self."
   ]
  },
  {
   "cell_type": "markdown",
   "id": "402f0696",
   "metadata": {},
   "source": [
    "### Restaurant: Make a class called Restaurant. The __init__() method for Restaurant should store two attributes: a restaurant_name and a cuisine_type.\n",
    "- Make a method called `describe_restaurant()` that prints name of the restrurent and the cuisine type\n",
    "- and a method called open_restaurant() that prints a message indicating that the restaurant is open.\n",
    "- Make an instance called restaurant from your class. Print the two attributes individually, and then call both methods.\n"
   ]
  },
  {
   "cell_type": "code",
   "execution_count": 20,
   "id": "c4316b2d",
   "metadata": {},
   "outputs": [
    {
     "name": "stdout",
     "output_type": "stream",
     "text": [
      "restaurant name: The Mean Queen\n",
      "cuisine type: pizza\n"
     ]
    }
   ],
   "source": [
    "class restaurant():\n",
    "    \n",
    "    def __init__(self,name,cuisine_type):\n",
    "        self.name=name.title()\n",
    "        self.cuisine_type=cuisine_type\n",
    "        \n",
    "    def describe_restaurant(self):\n",
    "        print(f'{self.name} serves wonderful {self.cuisine_type}.')\n",
    "    def open_restaurant(self):\n",
    "        print(f'{self.name} is open.')\n",
    "        \n",
    "restaurant1=restaurant('the mean queen','pizza')\n",
    "print(f'restaurant name: {restaurant1.name}')\n",
    "print(f'cuisine type: {restaurant1.cuisine_type}')"
   ]
  },
  {
   "cell_type": "code",
   "execution_count": null,
   "id": "f9be3f46",
   "metadata": {},
   "outputs": [],
   "source": []
  },
  {
   "cell_type": "markdown",
   "id": "8b4a4fca",
   "metadata": {},
   "source": [
    "\n",
    "\n",
    "### - Create three different instances from the class, and call describe_restaurant() for each instance."
   ]
  },
  {
   "cell_type": "code",
   "execution_count": 21,
   "id": "b3845fe0",
   "metadata": {},
   "outputs": [
    {
     "name": "stdout",
     "output_type": "stream",
     "text": [
      "restaurant name: Papa Johns\n",
      "cuisine_type: pizza\n",
      "restaurant name: Arby'S\n",
      "cuisine_type: sandwiches\n"
     ]
    }
   ],
   "source": [
    "restaurant2=restaurant('papa johns','pizza')\n",
    "restaurant3=restaurant(\"arby's\",'sandwiches')\n",
    "print(f'restaurant name: {restaurant2.name}')\n",
    "print(f'cuisine_type: {restaurant2.cuisine_type}')\n",
    "\n",
    "print(f'restaurant name: {restaurant3.name}')\n",
    "print(f'cuisine_type: {restaurant3.cuisine_type}')"
   ]
  },
  {
   "cell_type": "code",
   "execution_count": null,
   "id": "e6aa8a33",
   "metadata": {},
   "outputs": [],
   "source": []
  },
  {
   "cell_type": "code",
   "execution_count": null,
   "id": "6b24e6f1",
   "metadata": {},
   "outputs": [],
   "source": []
  },
  {
   "cell_type": "markdown",
   "id": "8f4032c6",
   "metadata": {},
   "source": [
    "### Users: Make a class called User. Create attributes called first_name and last_name, username, location \n",
    "- Make a method called describe_user() that prints a summary of the user’s information. \n",
    "- Make another method called greet_user() that prints a personalized greeting to the user.\n",
    "- Create several instances representing different users, and call both methods for each user."
   ]
  },
  {
   "cell_type": "code",
   "execution_count": 22,
   "id": "dda94ce2",
   "metadata": {},
   "outputs": [
    {
     "name": "stdout",
     "output_type": "stream",
     "text": [
      "\n",
      "Eric Matthews\n",
      "\t\tusername: e_matthews\n",
      "\t\tlocation: Alaska\n",
      "\n",
      " welcome back Eric\n",
      "\n",
      "Willie Burger\n",
      "\t\tusername: w_burger\n",
      "\t\tlocation: Alaska\n",
      "\n",
      " welcome back Willie\n"
     ]
    }
   ],
   "source": [
    "class user():\n",
    "    def __init__(self,fname,lname,username,location):\n",
    "        self.fname=fname.title()\n",
    "        self.lname=lname.title()\n",
    "        self.username=username\n",
    "        self.location=location.title()\n",
    "    \n",
    "    def describe_user(self):\n",
    "        print(f'\\n{self.fname} {self.lname}')\n",
    "        print(f'\\t\\tusername: {self.username}')\n",
    "        print(f'\\t\\tlocation: {self.location}')\n",
    "    def greet_user(self):\n",
    "        print(f'\\n welcome back {self.fname}')    \n",
    "        \n",
    "        \n",
    "user1=user('eric','matthews','e_matthews','alaska')\n",
    "user1.describe_user()\n",
    "user1.greet_user()\n",
    "\n",
    "user2=user('willie','burger','w_burger','alaska')\n",
    "user2.describe_user()\n",
    "user2.greet_user()"
   ]
  },
  {
   "cell_type": "code",
   "execution_count": null,
   "id": "8864d617",
   "metadata": {},
   "outputs": [],
   "source": []
  },
  {
   "cell_type": "markdown",
   "id": "8b5bfff2",
   "metadata": {},
   "source": [
    "## Setting a Default Value for an Attribute\n",
    "* create a class called 'car' whih contains make, model, and year.\n",
    "* add the 'odometer_reading' default to zero (New car)\n",
    "* create a method called 'get_'descriptive_name' which return the car informations\n",
    "* create a method called 'read_odometer' whcih will display the odometer reading of the car\n",
    "* create two car attributes to test the code"
   ]
  },
  {
   "cell_type": "code",
   "execution_count": 23,
   "id": "bbdc7a10",
   "metadata": {},
   "outputs": [],
   "source": [
    "class car():\n",
    "    # create a class called car which contain make, model, and year\n",
    "    def __init__(self,make,model,year):\n",
    "        self.make=make\n",
    "        self.model=model\n",
    "        self.year=year\n",
    "        # add the odometer_reading default to zero(new car)\n",
    "        self.odometer_reading=0\n",
    "        \n",
    "    def get_descriptive_name(self):\n",
    "        long_name=str(self.year) +\" \"+self.make+\" \"+self.model\n",
    "        return long_name.title()\n",
    "    \n",
    "    def read_odometer(self):\n",
    "        print(f'this car has {self.odometer_reading} miles on it')\n",
    "    "
   ]
  },
  {
   "cell_type": "code",
   "execution_count": 24,
   "id": "35859896",
   "metadata": {},
   "outputs": [
    {
     "name": "stdout",
     "output_type": "stream",
     "text": [
      "my car: 2019 Nissan Versa\n",
      "friends car: 2018 Hyundai Elantra\n",
      "this car has 0 miles on it\n",
      "this car has 0 miles on it\n"
     ]
    }
   ],
   "source": [
    "my_car=car('nissan','versa',2019)\n",
    "friends_car=car('hyundai','elantra',2018)\n",
    "print(f'my car: {my_car.get_descriptive_name()}')\n",
    "print(f'friends car: {friends_car.get_descriptive_name()}')\n",
    "my_car.read_odometer()\n",
    "friends_car.read_odometer()"
   ]
  },
  {
   "cell_type": "code",
   "execution_count": null,
   "id": "9ea6316b",
   "metadata": {},
   "outputs": [],
   "source": []
  },
  {
   "cell_type": "markdown",
   "id": "3f840f3e",
   "metadata": {},
   "source": [
    "#### Modifying the odometer without the method"
   ]
  },
  {
   "cell_type": "code",
   "execution_count": 25,
   "id": "6f8fa540",
   "metadata": {},
   "outputs": [
    {
     "name": "stdout",
     "output_type": "stream",
     "text": [
      "this car has 23 miles on it\n"
     ]
    }
   ],
   "source": [
    "my_car.odometer_reading=23 #overwrite the default value\n",
    "my_car.read_odometer()"
   ]
  },
  {
   "cell_type": "code",
   "execution_count": 26,
   "id": "2f382418",
   "metadata": {},
   "outputs": [
    {
     "name": "stdout",
     "output_type": "stream",
     "text": [
      "this car has 10 miles on it\n"
     ]
    }
   ],
   "source": [
    "friends_car.odometer_reading=10\n",
    "friends_car.read_odometer()"
   ]
  },
  {
   "cell_type": "markdown",
   "id": "27f8f244",
   "metadata": {},
   "source": [
    "### Modifying an Attribute’s Value Through a Method"
   ]
  },
  {
   "cell_type": "code",
   "execution_count": 27,
   "id": "9b3ae956",
   "metadata": {},
   "outputs": [],
   "source": [
    "class car():\n",
    "    # create a class called car which contain make, model, and year\n",
    "    def __init__(self,make,model,year):\n",
    "        self.make=make\n",
    "        self.model=model\n",
    "        self.year=year\n",
    "        # add the odometer_reading default to zero(new car)\n",
    "        self.odometer_reading=0\n",
    "        \n",
    "    def get_descriptive_name(self):\n",
    "        long_name=str(self.year) +\" \"+self.make+\" \"+self.model\n",
    "        return long_name.title()\n",
    "    \n",
    "    def read_odometer(self):\n",
    "        print(f'this car has {self.odometer_reading} miles on it')\n",
    "        \n",
    "    def update_odometer(self,mileage):\n",
    "        self.odometer_reading=mileage\n",
    "        print(f'the current odometer reading {self.odometer_reading}')"
   ]
  },
  {
   "cell_type": "code",
   "execution_count": 28,
   "id": "3c3c57c2",
   "metadata": {},
   "outputs": [
    {
     "name": "stdout",
     "output_type": "stream",
     "text": [
      "the car infomration 2019 Nissan Versa\n",
      "this car has 0 miles on it\n",
      "the current odometer reading 23\n"
     ]
    }
   ],
   "source": [
    "my_car=car('nissan','versa',2019)\n",
    "print('the car infomration',my_car.get_descriptive_name())\n",
    "my_car.read_odometer()\n",
    "my_car.update_odometer(23)"
   ]
  },
  {
   "cell_type": "code",
   "execution_count": 29,
   "id": "50b3d4a3",
   "metadata": {},
   "outputs": [
    {
     "name": "stdout",
     "output_type": "stream",
     "text": [
      "this car has 23 miles on it\n"
     ]
    }
   ],
   "source": [
    "my_car.read_odometer()"
   ]
  },
  {
   "cell_type": "code",
   "execution_count": 30,
   "id": "d6c649f2",
   "metadata": {},
   "outputs": [
    {
     "name": "stdout",
     "output_type": "stream",
     "text": [
      "the current odometer reading 23\n"
     ]
    }
   ],
   "source": [
    "my_car.update_odometer(23)"
   ]
  },
  {
   "cell_type": "markdown",
   "id": "fd560131",
   "metadata": {},
   "source": [
    "### Incrementing an Attribute’s Value Through a Method"
   ]
  },
  {
   "cell_type": "code",
   "execution_count": 31,
   "id": "8d76b884",
   "metadata": {},
   "outputs": [],
   "source": [
    "class car():\n",
    "    # create a class called car which contain make, model, and year\n",
    "    def __init__(self,make,model,year):\n",
    "        self.make=make\n",
    "        self.model=model\n",
    "        self.year=year\n",
    "        # add the odometer_reading default to zero(new car)\n",
    "        self.odometer_reading=0\n",
    "        \n",
    "    def get_descriptive_name(self):\n",
    "        long_name=str(self.year) +\" \"+self.make+\" \"+self.model\n",
    "        return long_name.title()\n",
    "    \n",
    "    def read_odometer(self):\n",
    "        print(f'this car has {self.odometer_reading} miles on it')\n",
    "        \n",
    "    def update_odometer(self,mileage):\n",
    "        self.odometer_reading=mileage\n",
    "        print(f'the current odometer reading {self.odometer_reading}')\n",
    "        \n",
    "    def incremental_odometer(self,miles):\n",
    "        self.odometer_reading+=miles\n",
    "        print(f'the updated odometer reading {self.odometer_reading}')"
   ]
  },
  {
   "cell_type": "code",
   "execution_count": 32,
   "id": "1500c7e7",
   "metadata": {},
   "outputs": [
    {
     "name": "stdout",
     "output_type": "stream",
     "text": [
      "the car infomration 2019 Nissan Versa\n",
      "this car has 0 miles on it\n",
      "the current odometer reading 23\n",
      "the updated odometer reading 123\n",
      "the updated odometer reading 1123\n"
     ]
    }
   ],
   "source": [
    "my_car=car('nissan','versa',2019)\n",
    "print('the car infomration',my_car.get_descriptive_name())\n",
    "my_car.read_odometer()\n",
    "my_car.update_odometer(23)\n",
    "my_car.incremental_odometer(100)\n",
    "my_car.incremental_odometer(1000)"
   ]
  },
  {
   "cell_type": "markdown",
   "id": "b96f0d18",
   "metadata": {},
   "source": [
    "# Inheritance\n",
    "- You don’t always have to start from scratch when writing a class. If the class you’re writing is a specialized version of another class you wrote, you can use inheritance. \n",
    "- When one class inherits from another, it automatically takes on all the attributes and methods of the first class. The original class is called the `parent class`, and the new class is the `child class`. \n",
    "- The child class inherits every attribute and method from its parent class but is also free to define new attributes and methods of its own."
   ]
  },
  {
   "cell_type": "code",
   "execution_count": null,
   "id": "5b7c3efd",
   "metadata": {},
   "outputs": [],
   "source": []
  },
  {
   "cell_type": "code",
   "execution_count": null,
   "id": "07cbb387",
   "metadata": {},
   "outputs": [],
   "source": []
  },
  {
   "cell_type": "markdown",
   "id": "88a3b077",
   "metadata": {},
   "source": [
    "# parent class Polygon\n",
    "## create a method called calc_perimeter"
   ]
  },
  {
   "cell_type": "code",
   "execution_count": 33,
   "id": "34de9649",
   "metadata": {},
   "outputs": [],
   "source": [
    "class Polygon:\n",
    "    def __init__(self,side_length):\n",
    "        self.side_length=side_length\n",
    "        \n",
    "    def perimeter(self):\n",
    "        return sum(self.side_length)"
   ]
  },
  {
   "cell_type": "code",
   "execution_count": 34,
   "id": "eec08a83",
   "metadata": {},
   "outputs": [
    {
     "name": "stdout",
     "output_type": "stream",
     "text": [
      "23\n"
     ]
    }
   ],
   "source": [
    "some_shape=Polygon([1,3,5,6,8])\n",
    "print(some_shape.perimeter())"
   ]
  },
  {
   "cell_type": "code",
   "execution_count": 35,
   "id": "dcc45ff3",
   "metadata": {},
   "outputs": [
    {
     "name": "stdout",
     "output_type": "stream",
     "text": [
      "177\n"
     ]
    }
   ],
   "source": [
    "another_shape=Polygon([2,56,65,12,34,8])\n",
    "print(another_shape.perimeter())"
   ]
  },
  {
   "cell_type": "markdown",
   "id": "a59d862f",
   "metadata": {},
   "source": [
    "create a child class called tringle and calculate the perimeter and the area"
   ]
  },
  {
   "cell_type": "code",
   "execution_count": 36,
   "id": "f39ac966",
   "metadata": {},
   "outputs": [],
   "source": [
    "class Triangle(Polygon):\n",
    "    def __init__(self,side_length):\n",
    "        super().__init__(side_length)\n",
    "        \n",
    "    def area(self):\n",
    "        a,b,c=self.side_length  # unpacking the input variables\n",
    "        s=(a+b+c)/2\n",
    "        return (s*(s-a)*(s-b)*(s-c))**.5"
   ]
  },
  {
   "cell_type": "code",
   "execution_count": 37,
   "id": "52d8e38d",
   "metadata": {},
   "outputs": [
    {
     "name": "stdout",
     "output_type": "stream",
     "text": [
      "the perimeter is 12\n",
      "the area is 6\n"
     ]
    }
   ],
   "source": [
    "a_triangle=Triangle([3,4,5])\n",
    "print(f'the perimeter is {a_triangle.perimeter()}')\n",
    "print(f'the area is {round(a_triangle.area())}')"
   ]
  },
  {
   "cell_type": "markdown",
   "id": "92bcf1a4",
   "metadata": {},
   "source": [
    "create a child class called square and calculate the perimeter and the area"
   ]
  },
  {
   "cell_type": "code",
   "execution_count": 38,
   "id": "0b0b3d00",
   "metadata": {},
   "outputs": [],
   "source": [
    "class Square(Polygon):\n",
    "    def __init__(self,side_length):\n",
    "        super().__init__(side_length)\n",
    "        \n",
    "    def area(self):\n",
    "        a,b,c,d=self.side_length\n",
    "        return a**2"
   ]
  },
  {
   "cell_type": "code",
   "execution_count": 39,
   "id": "065f6d34",
   "metadata": {},
   "outputs": [
    {
     "name": "stdout",
     "output_type": "stream",
     "text": [
      "the perimeter is 8\n",
      "the area is 4\n"
     ]
    }
   ],
   "source": [
    "a_square=Square([2,2,2,2])\n",
    "print(f'the perimeter is {a_square.perimeter()}')\n",
    "print(f'the area is {(a_square.area())}')"
   ]
  },
  {
   "cell_type": "markdown",
   "id": "eb16e85d",
   "metadata": {},
   "source": [
    "create a child class called rectangle and calculate the perimeter and the area"
   ]
  },
  {
   "cell_type": "code",
   "execution_count": 40,
   "id": "d4743066",
   "metadata": {},
   "outputs": [],
   "source": [
    "class Rectangle(Polygon):\n",
    "    def __init__(self,side_length):\n",
    "        super().__init__(side_length)\n",
    "        \n",
    "    def area(self):\n",
    "        a,b,c,d=self.side_length\n",
    "        if a!=b:\n",
    "            result=a*b\n",
    "        elif a!=c:\n",
    "            result=a*c\n",
    "        else:\n",
    "            result=a*d\n",
    "        return result"
   ]
  },
  {
   "cell_type": "code",
   "execution_count": 41,
   "id": "fc366a10",
   "metadata": {},
   "outputs": [
    {
     "name": "stdout",
     "output_type": "stream",
     "text": [
      "the perimeter is 10\n",
      "the area is 6\n"
     ]
    }
   ],
   "source": [
    "a_rectangle=Rectangle([2,2,3,3])\n",
    "print(f'the perimeter is {a_rectangle.perimeter()}')\n",
    "print(f'the area is {(a_rectangle.area())}')"
   ]
  },
  {
   "cell_type": "code",
   "execution_count": null,
   "id": "f51ea231",
   "metadata": {},
   "outputs": [],
   "source": []
  },
  {
   "cell_type": "markdown",
   "id": "5b594c20",
   "metadata": {},
   "source": [
    "### Practice: Create a class named Person, with firstname and lastname properties, and a printname method:"
   ]
  },
  {
   "cell_type": "code",
   "execution_count": 1,
   "id": "681edaaf",
   "metadata": {},
   "outputs": [],
   "source": [
    "class person():\n",
    "    def __init__(self,fname,lname):\n",
    "        self.fname=fname.title()\n",
    "        self.lname=lname.title()\n",
    "        \n",
    "    def print_name(self):\n",
    "        print(f'fullname: {self.fname} {self.lname}')"
   ]
  },
  {
   "cell_type": "code",
   "execution_count": 2,
   "id": "9d3a0e56",
   "metadata": {},
   "outputs": [
    {
     "name": "stdout",
     "output_type": "stream",
     "text": [
      "fullname: Gavin Trumbull\n",
      "fullname: Billy Joe\n"
     ]
    }
   ],
   "source": [
    "person1=person('gavin','trumbull')\n",
    "person2=person('billy','joe')\n",
    "person1.print_name()\n",
    "person2.print_name()"
   ]
  },
  {
   "cell_type": "code",
   "execution_count": null,
   "id": "b75d7a0a",
   "metadata": {},
   "outputs": [],
   "source": []
  },
  {
   "cell_type": "markdown",
   "id": "a8023470",
   "metadata": {},
   "source": [
    "### Create child classes called Student using Inheritance contains the first and last name and the graduation year \n",
    "- Add a method called `welcome` that prints the student graduation year\n",
    "- Test the student method for two students"
   ]
  },
  {
   "cell_type": "code",
   "execution_count": 12,
   "id": "8a1571d5",
   "metadata": {},
   "outputs": [],
   "source": [
    "class student(person):\n",
    "    def __init__(self,fname,lname,year):\n",
    "        super().__init__(fname,lname)\n",
    "        self.year=year\n",
    "    def welcome(self):\n",
    "        print(f'welcome, {self.fname} {self.lname} to the class of {self.year}')"
   ]
  },
  {
   "cell_type": "code",
   "execution_count": 14,
   "id": "5816f6a4",
   "metadata": {},
   "outputs": [
    {
     "name": "stdout",
     "output_type": "stream",
     "text": [
      "fullname: Gavin Trumbull\n",
      "welcome, Gavin Trumbull to the class of 2025\n"
     ]
    }
   ],
   "source": [
    "student1=student('gavin','trumbull',2025)\n",
    "student1.print_name()\n",
    "student1.welcome()"
   ]
  },
  {
   "cell_type": "markdown",
   "id": "edb31bf7",
   "metadata": {},
   "source": [
    "use inheritance to create the square class from parent class rectangle\n",
    "\n",
    "create a parent class rectangle and two methods called area and perimeter"
   ]
  },
  {
   "cell_type": "code",
   "execution_count": 46,
   "id": "3d5ba5a1",
   "metadata": {},
   "outputs": [],
   "source": [
    "class rectangle():\n",
    "    def __init__(self,length,width):\n",
    "        self.length=length\n",
    "        self.width=width\n",
    "        \n",
    "    def area(self):\n",
    "        return self.length*self.width\n",
    "    def perimeter(self):\n",
    "        return 2*(self.length+self.width)"
   ]
  },
  {
   "cell_type": "code",
   "execution_count": null,
   "id": "731994a7",
   "metadata": {},
   "outputs": [],
   "source": []
  },
  {
   "cell_type": "markdown",
   "id": "7ad754d8",
   "metadata": {},
   "source": [
    "create a childclass square and test for two cases, do method overloading for area and perimeter"
   ]
  },
  {
   "cell_type": "code",
   "execution_count": 47,
   "id": "52c710e5",
   "metadata": {},
   "outputs": [],
   "source": [
    "class square(rectangle):\n",
    "    def __init__(self,length):\n",
    "        super().__init__(length,length)"
   ]
  },
  {
   "cell_type": "code",
   "execution_count": 48,
   "id": "fcdd5d22",
   "metadata": {},
   "outputs": [
    {
     "name": "stdout",
     "output_type": "stream",
     "text": [
      "16\n",
      "16\n"
     ]
    }
   ],
   "source": [
    "square1=square(4)\n",
    "print(square1.area())\n",
    "print(square1.perimeter())"
   ]
  },
  {
   "cell_type": "markdown",
   "id": "3bdcfd1c",
   "metadata": {},
   "source": [
    "## Create a simple calculator using classes\n",
    "(IP7)"
   ]
  },
  {
   "cell_type": "code",
   "execution_count": 51,
   "id": "6ab4b4b1",
   "metadata": {},
   "outputs": [
    {
     "name": "stdout",
     "output_type": "stream",
     "text": [
      "enter first number: 1\n",
      "enter second number: 2\n",
      "\n",
      "0. exit\n",
      "1. addition\n",
      "2. subtraction\n",
      "3. multiplication\n",
      "4. division\n",
      "enter your choice...4\n",
      "result: 0.5\n",
      "\n",
      "0. exit\n",
      "1. addition\n",
      "2. subtraction\n",
      "3. multiplication\n",
      "4. division\n",
      "enter your choice...3\n",
      "result: 2\n",
      "\n",
      "0. exit\n",
      "1. addition\n",
      "2. subtraction\n",
      "3. multiplication\n",
      "4. division\n",
      "enter your choice...1\n",
      "result: 3\n",
      "\n",
      "0. exit\n",
      "1. addition\n",
      "2. subtraction\n",
      "3. multiplication\n",
      "4. division\n",
      "enter your choice...0\n",
      "exit\n",
      "\n"
     ]
    }
   ],
   "source": [
    "class calculator():\n",
    "    def __init__(self,input1,input2):\n",
    "        self.input1=input1\n",
    "        self.input2=input2\n",
    "    def addition(self):\n",
    "        return self.input1+self.input2\n",
    "    def subtraction(self):\n",
    "        return self.input1-self.input2\n",
    "    def multiplication(self):\n",
    "        return self.input1*self.input2\n",
    "    def division(self):\n",
    "        return self.input1/self.input2\n",
    "input_1=int(input('enter first number: '))\n",
    "input_2=int(input('enter second number: '))\n",
    "my_calc=calculator(input_1,input_2)\n",
    "\n",
    "choice=1\n",
    "while choice!=0:\n",
    "    print()\n",
    "    print('0. exit')\n",
    "    print('1. addition')\n",
    "    print('2. subtraction')\n",
    "    print('3. multiplication')\n",
    "    print('4. division')\n",
    "    choice=int(input('enter your choice...'))\n",
    "    \n",
    "    if choice==1:\n",
    "        print(f'result: {my_calc.addition()}')\n",
    "    elif choice==2:\n",
    "        print(f'result: {my_calc.subtraction()}')\n",
    "    elif choice==3:\n",
    "        print(f'result: {my_calc.multiplication()}')\n",
    "    elif choice==4:\n",
    "        print(f'result: {my_calc.division()}')\n",
    "    elif choice==0:\n",
    "        print('exit')\n",
    "    else:\n",
    "        print('sorry, invalid choice')\n",
    "print()        "
   ]
  },
  {
   "cell_type": "code",
   "execution_count": null,
   "id": "a7a954a0",
   "metadata": {},
   "outputs": [],
   "source": []
  },
  {
   "cell_type": "markdown",
   "id": "7f8b1714",
   "metadata": {},
   "source": [
    "# lambda function"
   ]
  },
  {
   "cell_type": "code",
   "execution_count": 1,
   "id": "d04cbc82",
   "metadata": {},
   "outputs": [],
   "source": [
    "#identity funciton returns the argument\n",
    "def identity(x):\n",
    "    return x"
   ]
  },
  {
   "cell_type": "code",
   "execution_count": 5,
   "id": "ade7e469",
   "metadata": {},
   "outputs": [
    {
     "data": {
      "text/plain": [
       "'lkmroibv'"
      ]
     },
     "execution_count": 5,
     "metadata": {},
     "output_type": "execute_result"
    }
   ],
   "source": [
    "identity('lkmroibv')"
   ]
  },
  {
   "cell_type": "markdown",
   "id": "91abf46a",
   "metadata": {},
   "source": [
    "### a lambda function construction:\n",
    "lambda argument(s):expression"
   ]
  },
  {
   "cell_type": "code",
   "execution_count": 6,
   "id": "fb1f0476",
   "metadata": {},
   "outputs": [
    {
     "data": {
      "text/plain": [
       "2"
      ]
     },
     "execution_count": 6,
     "metadata": {},
     "output_type": "execute_result"
    }
   ],
   "source": [
    "(lambda x:x)(2) # (lambda argument:expression)"
   ]
  },
  {
   "cell_type": "code",
   "execution_count": 7,
   "id": "c9b0d617",
   "metadata": {},
   "outputs": [
    {
     "data": {
      "text/plain": [
       "4"
      ]
     },
     "execution_count": 7,
     "metadata": {},
     "output_type": "execute_result"
    }
   ],
   "source": [
    "(lambda x:x+1)(3)"
   ]
  },
  {
   "cell_type": "code",
   "execution_count": 8,
   "id": "883ad580",
   "metadata": {},
   "outputs": [],
   "source": [
    "# as lambda is a function we can store it to a variable\n",
    "add_one=lambda x:x+1"
   ]
  },
  {
   "cell_type": "code",
   "execution_count": 9,
   "id": "122db2a7",
   "metadata": {},
   "outputs": [
    {
     "data": {
      "text/plain": [
       "5"
      ]
     },
     "execution_count": 9,
     "metadata": {},
     "output_type": "execute_result"
    }
   ],
   "source": [
    "add_one(4)"
   ]
  },
  {
   "cell_type": "markdown",
   "id": "8def8863",
   "metadata": {},
   "source": [
    "###  common used of lambda funciton\n",
    "- it use with iterables which is a series of values\n",
    "- python iterables are list, dictionary, tuple, strings, and so on\n",
    "- two common function works with lambda function are 'filter()', and 'map()'"
   ]
  },
  {
   "cell_type": "markdown",
   "id": "200cca4b",
   "metadata": {},
   "source": [
    "### filter()"
   ]
  },
  {
   "cell_type": "markdown",
   "id": "60604276",
   "metadata": {},
   "source": [
    "#### example: we have a list [1,2,3,4,5,6,7,8,9,10]. we are only interested in even numbers"
   ]
  },
  {
   "cell_type": "code",
   "execution_count": 10,
   "id": "dff2d3c3",
   "metadata": {},
   "outputs": [
    {
     "data": {
      "text/plain": [
       "[2, 4, 6, 8, 10]"
      ]
     },
     "execution_count": 10,
     "metadata": {},
     "output_type": "execute_result"
    }
   ],
   "source": [
    "list1=[1,2,3,4,5,6,7,8,9,10]\n",
    "list(filter(lambda x:x%2==0, list1))"
   ]
  },
  {
   "cell_type": "code",
   "execution_count": 12,
   "id": "1a2e5449",
   "metadata": {},
   "outputs": [
    {
     "data": {
      "text/plain": [
       "[1, 3, 5, 7, 9]"
      ]
     },
     "execution_count": 12,
     "metadata": {},
     "output_type": "execute_result"
    }
   ],
   "source": [
    "#filter the odd numbers\n",
    "list(filter(lambda x:x%2==1,list1))"
   ]
  },
  {
   "cell_type": "code",
   "execution_count": 13,
   "id": "a9a2dad8",
   "metadata": {},
   "outputs": [
    {
     "data": {
      "text/plain": [
       "[3, 6, 9]"
      ]
     },
     "execution_count": 13,
     "metadata": {},
     "output_type": "execute_result"
    }
   ],
   "source": [
    "# filter the number multiple of 3\n",
    "list(filter(lambda x:x%3==0,list1))"
   ]
  },
  {
   "cell_type": "markdown",
   "id": "2ca0420b",
   "metadata": {},
   "source": [
    "#### `map()` use whenever you want to update or modify every value in an iterable"
   ]
  },
  {
   "cell_type": "code",
   "execution_count": 14,
   "id": "397413a9",
   "metadata": {},
   "outputs": [
    {
     "data": {
      "text/plain": [
       "[1, 4, 9, 16, 25, 36, 49, 64, 81, 100]"
      ]
     },
     "execution_count": 14,
     "metadata": {},
     "output_type": "execute_result"
    }
   ],
   "source": [
    "#create a new list of power of two\n",
    "list1=[1,2,3,4,5,6,7,8,9,10]\n",
    "\n",
    "list(map(lambda x: pow(x,2),list1))"
   ]
  },
  {
   "cell_type": "code",
   "execution_count": 15,
   "id": "79743ad8",
   "metadata": {},
   "outputs": [
    {
     "data": {
      "text/plain": [
       "[1, 8, 27, 64, 125, 216, 343, 512, 729, 1000]"
      ]
     },
     "execution_count": 15,
     "metadata": {},
     "output_type": "execute_result"
    }
   ],
   "source": [
    "# cube of each number\n",
    "list(map(lambda y:pow(y,3),list1))"
   ]
  },
  {
   "cell_type": "markdown",
   "id": "ca785e10",
   "metadata": {},
   "source": [
    "## example"
   ]
  },
  {
   "cell_type": "code",
   "execution_count": 17,
   "id": "540b7a4d",
   "metadata": {},
   "outputs": [
    {
     "data": {
      "text/plain": [
       "6"
      ]
     },
     "execution_count": 17,
     "metadata": {},
     "output_type": "execute_result"
    }
   ],
   "source": [
    "(lambda x,y,z:x+y+z)(1,2,3)"
   ]
  },
  {
   "cell_type": "code",
   "execution_count": 20,
   "id": "d0060995",
   "metadata": {},
   "outputs": [
    {
     "data": {
      "text/plain": [
       "5"
      ]
     },
     "execution_count": 20,
     "metadata": {},
     "output_type": "execute_result"
    }
   ],
   "source": [
    "(lambda x,y,z=2:x+y+z)(1,2)"
   ]
  },
  {
   "cell_type": "code",
   "execution_count": 18,
   "id": "8fecaad8",
   "metadata": {},
   "outputs": [
    {
     "data": {
      "text/plain": [
       "3"
      ]
     },
     "execution_count": 18,
     "metadata": {},
     "output_type": "execute_result"
    }
   ],
   "source": [
    "(lambda x,y,z=2:x+y+z)(1,2,0)"
   ]
  },
  {
   "cell_type": "code",
   "execution_count": 19,
   "id": "bcda123f",
   "metadata": {},
   "outputs": [
    {
     "data": {
      "text/plain": [
       "23"
      ]
     },
     "execution_count": 19,
     "metadata": {},
     "output_type": "execute_result"
    }
   ],
   "source": [
    "(lambda *args: sum(args))(1,2,3,4,5,8)"
   ]
  },
  {
   "cell_type": "markdown",
   "id": "3ec8ac8f",
   "metadata": {},
   "source": [
    "### exception handling"
   ]
  },
  {
   "cell_type": "code",
   "execution_count": 21,
   "id": "f2a32b37",
   "metadata": {},
   "outputs": [
    {
     "ename": "ZeroDivisionError",
     "evalue": "division by zero",
     "output_type": "error",
     "traceback": [
      "\u001b[1;31m---------------------------------------------------------------------------\u001b[0m",
      "\u001b[1;31mZeroDivisionError\u001b[0m                         Traceback (most recent call last)",
      "\u001b[1;32m~\\AppData\\Local\\Temp\\ipykernel_25024\\1152173066.py\u001b[0m in \u001b[0;36m<module>\u001b[1;34m\u001b[0m\n\u001b[1;32m----> 1\u001b[1;33m \u001b[0mprint\u001b[0m\u001b[1;33m(\u001b[0m\u001b[1;36m5\u001b[0m\u001b[1;33m/\u001b[0m\u001b[1;36m0\u001b[0m\u001b[1;33m)\u001b[0m\u001b[1;33m\u001b[0m\u001b[1;33m\u001b[0m\u001b[0m\n\u001b[0m",
      "\u001b[1;31mZeroDivisionError\u001b[0m: division by zero"
     ]
    }
   ],
   "source": [
    "print(5/0)"
   ]
  },
  {
   "cell_type": "code",
   "execution_count": 22,
   "id": "756ea12c",
   "metadata": {},
   "outputs": [
    {
     "ename": "TypeError",
     "evalue": "unsupported operand type(s) for +: 'int' and 'str'",
     "output_type": "error",
     "traceback": [
      "\u001b[1;31m---------------------------------------------------------------------------\u001b[0m",
      "\u001b[1;31mTypeError\u001b[0m                                 Traceback (most recent call last)",
      "\u001b[1;32m~\\AppData\\Local\\Temp\\ipykernel_25024\\3943153747.py\u001b[0m in \u001b[0;36m<module>\u001b[1;34m\u001b[0m\n\u001b[0;32m      1\u001b[0m \u001b[0mx\u001b[0m\u001b[1;33m=\u001b[0m\u001b[1;36m5\u001b[0m\u001b[1;33m\u001b[0m\u001b[1;33m\u001b[0m\u001b[0m\n\u001b[0;32m      2\u001b[0m \u001b[0my\u001b[0m\u001b[1;33m=\u001b[0m\u001b[1;34m'hello'\u001b[0m\u001b[1;33m\u001b[0m\u001b[1;33m\u001b[0m\u001b[0m\n\u001b[1;32m----> 3\u001b[1;33m \u001b[0mz\u001b[0m \u001b[1;33m=\u001b[0m \u001b[0mx\u001b[0m\u001b[1;33m+\u001b[0m\u001b[0my\u001b[0m\u001b[1;33m\u001b[0m\u001b[1;33m\u001b[0m\u001b[0m\n\u001b[0m",
      "\u001b[1;31mTypeError\u001b[0m: unsupported operand type(s) for +: 'int' and 'str'"
     ]
    }
   ],
   "source": [
    "x=5\n",
    "y='hello'\n",
    "z = x+y"
   ]
  },
  {
   "cell_type": "code",
   "execution_count": 23,
   "id": "2cfcd4e1",
   "metadata": {},
   "outputs": [
    {
     "name": "stdout",
     "output_type": "stream",
     "text": [
      "Error: can not add int and str\n"
     ]
    }
   ],
   "source": [
    "x=5\n",
    "y='hello'\n",
    "\n",
    "try:\n",
    "    z=x+y\n",
    "except TypeError:\n",
    "    print('Error: can not add int and str')"
   ]
  },
  {
   "cell_type": "code",
   "execution_count": 26,
   "id": "f9ad2397",
   "metadata": {},
   "outputs": [
    {
     "name": "stdout",
     "output_type": "stream",
     "text": [
      "second variable:  2\n",
      "an error occured\n"
     ]
    }
   ],
   "source": [
    "list1=[1,2,3]\n",
    "try:\n",
    "    print('second variable: ',list1[1])\n",
    "    print('fourth variable: ',list1[3])\n",
    "except:\n",
    "    print('an error occured')"
   ]
  },
  {
   "cell_type": "code",
   "execution_count": 24,
   "id": "b07f2298",
   "metadata": {},
   "outputs": [
    {
     "ename": "IndexError",
     "evalue": "list index out of range",
     "output_type": "error",
     "traceback": [
      "\u001b[1;31m---------------------------------------------------------------------------\u001b[0m",
      "\u001b[1;31mIndexError\u001b[0m                                Traceback (most recent call last)",
      "\u001b[1;32m~\\AppData\\Local\\Temp\\ipykernel_25024\\492581389.py\u001b[0m in \u001b[0;36m<module>\u001b[1;34m\u001b[0m\n\u001b[0;32m      1\u001b[0m \u001b[0mlist1\u001b[0m\u001b[1;33m=\u001b[0m\u001b[1;33m[\u001b[0m\u001b[1;36m1\u001b[0m\u001b[1;33m,\u001b[0m\u001b[1;36m2\u001b[0m\u001b[1;33m,\u001b[0m\u001b[1;36m3\u001b[0m\u001b[1;33m]\u001b[0m\u001b[1;33m\u001b[0m\u001b[1;33m\u001b[0m\u001b[0m\n\u001b[1;32m----> 2\u001b[1;33m \u001b[0mprint\u001b[0m\u001b[1;33m(\u001b[0m\u001b[1;34m'fourth variable: '\u001b[0m\u001b[1;33m,\u001b[0m\u001b[0mlist1\u001b[0m\u001b[1;33m[\u001b[0m\u001b[1;36m3\u001b[0m\u001b[1;33m]\u001b[0m\u001b[1;33m)\u001b[0m\u001b[1;33m\u001b[0m\u001b[1;33m\u001b[0m\u001b[0m\n\u001b[0m",
      "\u001b[1;31mIndexError\u001b[0m: list index out of range"
     ]
    }
   ],
   "source": [
    "list1=[1,2,3]\n",
    "print('fourth variable: ',list1[3])"
   ]
  },
  {
   "cell_type": "code",
   "execution_count": 28,
   "id": "e28ed434",
   "metadata": {},
   "outputs": [
    {
     "name": "stdout",
     "output_type": "stream",
     "text": [
      "-5.0\n",
      "a/b results 0\n"
     ]
    }
   ],
   "source": [
    "def test(a,b):\n",
    "    try:\n",
    "        c=(a+b)/(a-b)\n",
    "    except ZeroDivisionError:\n",
    "        print('a/b results 0')\n",
    "    else:\n",
    "        print(c)\n",
    "test(2,3)\n",
    "test(3,3)"
   ]
  },
  {
   "cell_type": "markdown",
   "id": "0ec161b5",
   "metadata": {},
   "source": [
    "## ATM machine "
   ]
  },
  {
   "cell_type": "code",
   "execution_count": 37,
   "id": "267c3e25",
   "metadata": {},
   "outputs": [],
   "source": [
    "class Bank_account():\n",
    "    def __init__(self):\n",
    "        self.balance=0\n",
    "        print('hello! welcome to the ATM')\n",
    "    def deposit(self):\n",
    "        amount=float(input('enter the amount you want to deposit: '))\n",
    "        self.balance+=amount\n",
    "        print('\\n Amount deposited', amount)\n",
    "    def withdraw(self):\n",
    "        amount=float(input('enter the amount you want to withdraw: '))\n",
    "        if self.balance>=amount:\n",
    "            self.balance-=amount\n",
    "            print('\\n you withdrawn', amount)\n",
    "        else:\n",
    "            print('\\n insufficient balance')\n",
    "    def display(self):\n",
    "        print('the available balance is', self.balance)"
   ]
  },
  {
   "cell_type": "code",
   "execution_count": 38,
   "id": "a6e40459",
   "metadata": {},
   "outputs": [
    {
     "name": "stdout",
     "output_type": "stream",
     "text": [
      "hello! welcome to the ATM\n",
      "the available balance is 0\n"
     ]
    }
   ],
   "source": [
    "sams_account=Bank_account()\n",
    "sams_account.display()"
   ]
  },
  {
   "cell_type": "code",
   "execution_count": 40,
   "id": "5349965d",
   "metadata": {},
   "outputs": [
    {
     "name": "stdout",
     "output_type": "stream",
     "text": [
      "enter the amount you want to deposit: 100\n",
      "\n",
      " Amount deposited 100.0\n"
     ]
    }
   ],
   "source": [
    "# deposit\n",
    "sams_account.deposit()"
   ]
  },
  {
   "cell_type": "code",
   "execution_count": 41,
   "id": "f216629d",
   "metadata": {},
   "outputs": [
    {
     "name": "stdout",
     "output_type": "stream",
     "text": [
      "the available balance is 100.0\n"
     ]
    }
   ],
   "source": [
    "sams_account.display()"
   ]
  },
  {
   "cell_type": "code",
   "execution_count": 42,
   "id": "b4d83189",
   "metadata": {},
   "outputs": [
    {
     "name": "stdout",
     "output_type": "stream",
     "text": [
      "enter the amount you want to withdraw: 324\n",
      "\n",
      " insufficient balance\n"
     ]
    }
   ],
   "source": [
    "#withdraw\n",
    "sams_account.withdraw()"
   ]
  },
  {
   "cell_type": "code",
   "execution_count": 43,
   "id": "5f6726cf",
   "metadata": {},
   "outputs": [
    {
     "name": "stdout",
     "output_type": "stream",
     "text": [
      "the available balance is 100.0\n"
     ]
    }
   ],
   "source": [
    "sams_account.display()"
   ]
  },
  {
   "cell_type": "code",
   "execution_count": null,
   "id": "83b7d267",
   "metadata": {},
   "outputs": [],
   "source": []
  }
 ],
 "metadata": {
  "kernelspec": {
   "display_name": "Python 3 (ipykernel)",
   "language": "python",
   "name": "python3"
  },
  "language_info": {
   "codemirror_mode": {
    "name": "ipython",
    "version": 3
   },
   "file_extension": ".py",
   "mimetype": "text/x-python",
   "name": "python",
   "nbconvert_exporter": "python",
   "pygments_lexer": "ipython3",
   "version": "3.9.13"
  }
 },
 "nbformat": 4,
 "nbformat_minor": 5
}
